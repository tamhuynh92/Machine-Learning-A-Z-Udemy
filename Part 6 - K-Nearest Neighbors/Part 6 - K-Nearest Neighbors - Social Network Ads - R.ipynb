{
 "cells": [
  {
   "cell_type": "code",
   "execution_count": 1,
   "metadata": {},
   "outputs": [],
   "source": [
    "# K-Nearest Neighbors (K-NN)\n",
    "\n",
    "# Importing the dataset\n",
    "dataset = read.csv('Social_Network_Ads.csv')\n",
    "dataset = dataset[3:5]\n"
   ]
  },
  {
   "cell_type": "code",
   "execution_count": 2,
   "metadata": {},
   "outputs": [],
   "source": [
    "\n",
    "# Encoding the target feature as factor\n",
    "dataset$Purchased = factor(dataset$Purchased, levels = c(0, 1))\n",
    "\n",
    "# Splitting the dataset into the Training set and Test set\n",
    "# install.packages('caTools')\n",
    "library(caTools)\n",
    "set.seed(123)\n",
    "split = sample.split(dataset$Purchased, SplitRatio = 0.75)\n",
    "training_set = subset(dataset, split == TRUE)\n",
    "test_set = subset(dataset, split == FALSE)\n",
    "\n"
   ]
  },
  {
   "cell_type": "code",
   "execution_count": 4,
   "metadata": {},
   "outputs": [
    {
     "data": {
      "text/html": [
       "<table>\n",
       "<thead><tr><th></th><th scope=col>Age</th><th scope=col>EstimatedSalary</th><th scope=col>Purchased</th></tr></thead>\n",
       "<tbody>\n",
       "\t<tr><th scope=row>1</th><td>19    </td><td> 19000</td><td>0     </td></tr>\n",
       "\t<tr><th scope=row>3</th><td>26    </td><td> 43000</td><td>0     </td></tr>\n",
       "\t<tr><th scope=row>6</th><td>27    </td><td> 58000</td><td>0     </td></tr>\n",
       "\t<tr><th scope=row>7</th><td>27    </td><td> 84000</td><td>0     </td></tr>\n",
       "\t<tr><th scope=row>8</th><td>32    </td><td>150000</td><td>1     </td></tr>\n",
       "\t<tr><th scope=row>10</th><td>35    </td><td> 65000</td><td>0     </td></tr>\n",
       "</tbody>\n",
       "</table>\n"
      ],
      "text/latex": [
       "\\begin{tabular}{r|lll}\n",
       "  & Age & EstimatedSalary & Purchased\\\\\n",
       "\\hline\n",
       "\t1 & 19     &  19000 & 0     \\\\\n",
       "\t3 & 26     &  43000 & 0     \\\\\n",
       "\t6 & 27     &  58000 & 0     \\\\\n",
       "\t7 & 27     &  84000 & 0     \\\\\n",
       "\t8 & 32     & 150000 & 1     \\\\\n",
       "\t10 & 35     &  65000 & 0     \\\\\n",
       "\\end{tabular}\n"
      ],
      "text/markdown": [
       "\n",
       "| <!--/--> | Age | EstimatedSalary | Purchased | \n",
       "|---|---|---|---|---|---|\n",
       "| 1 | 19     |  19000 | 0      | \n",
       "| 3 | 26     |  43000 | 0      | \n",
       "| 6 | 27     |  58000 | 0      | \n",
       "| 7 | 27     |  84000 | 0      | \n",
       "| 8 | 32     | 150000 | 1      | \n",
       "| 10 | 35     |  65000 | 0      | \n",
       "\n",
       "\n"
      ],
      "text/plain": [
       "   Age EstimatedSalary Purchased\n",
       "1  19   19000          0        \n",
       "3  26   43000          0        \n",
       "6  27   58000          0        \n",
       "7  27   84000          0        \n",
       "8  32  150000          1        \n",
       "10 35   65000          0        "
      ]
     },
     "metadata": {},
     "output_type": "display_data"
    }
   ],
   "source": [
    "head(training_set)"
   ]
  },
  {
   "cell_type": "code",
   "execution_count": 5,
   "metadata": {},
   "outputs": [
    {
     "data": {
      "text/html": [
       "<table>\n",
       "<thead><tr><th></th><th scope=col>Age</th><th scope=col>EstimatedSalary</th><th scope=col>Purchased</th></tr></thead>\n",
       "<tbody>\n",
       "\t<tr><th scope=row>2</th><td>35   </td><td>20000</td><td>0    </td></tr>\n",
       "\t<tr><th scope=row>4</th><td>27   </td><td>57000</td><td>0    </td></tr>\n",
       "\t<tr><th scope=row>5</th><td>19   </td><td>76000</td><td>0    </td></tr>\n",
       "\t<tr><th scope=row>9</th><td>25   </td><td>33000</td><td>0    </td></tr>\n",
       "\t<tr><th scope=row>12</th><td>26   </td><td>52000</td><td>0    </td></tr>\n",
       "\t<tr><th scope=row>18</th><td>45   </td><td>26000</td><td>1    </td></tr>\n",
       "</tbody>\n",
       "</table>\n"
      ],
      "text/latex": [
       "\\begin{tabular}{r|lll}\n",
       "  & Age & EstimatedSalary & Purchased\\\\\n",
       "\\hline\n",
       "\t2 & 35    & 20000 & 0    \\\\\n",
       "\t4 & 27    & 57000 & 0    \\\\\n",
       "\t5 & 19    & 76000 & 0    \\\\\n",
       "\t9 & 25    & 33000 & 0    \\\\\n",
       "\t12 & 26    & 52000 & 0    \\\\\n",
       "\t18 & 45    & 26000 & 1    \\\\\n",
       "\\end{tabular}\n"
      ],
      "text/markdown": [
       "\n",
       "| <!--/--> | Age | EstimatedSalary | Purchased | \n",
       "|---|---|---|---|---|---|\n",
       "| 2 | 35    | 20000 | 0     | \n",
       "| 4 | 27    | 57000 | 0     | \n",
       "| 5 | 19    | 76000 | 0     | \n",
       "| 9 | 25    | 33000 | 0     | \n",
       "| 12 | 26    | 52000 | 0     | \n",
       "| 18 | 45    | 26000 | 1     | \n",
       "\n",
       "\n"
      ],
      "text/plain": [
       "   Age EstimatedSalary Purchased\n",
       "2  35  20000           0        \n",
       "4  27  57000           0        \n",
       "5  19  76000           0        \n",
       "9  25  33000           0        \n",
       "12 26  52000           0        \n",
       "18 45  26000           1        "
      ]
     },
     "metadata": {},
     "output_type": "display_data"
    }
   ],
   "source": [
    "head(test_set)"
   ]
  },
  {
   "cell_type": "code",
   "execution_count": 6,
   "metadata": {},
   "outputs": [],
   "source": [
    "# Feature Scaling\n",
    "training_set[-3] = scale(training_set[-3])\n",
    "test_set[-3] = scale(test_set[-3])\n",
    "\n"
   ]
  },
  {
   "cell_type": "code",
   "execution_count": 7,
   "metadata": {},
   "outputs": [
    {
     "data": {
      "text/html": [
       "<table>\n",
       "<thead><tr><th></th><th scope=col>Age</th><th scope=col>EstimatedSalary</th><th scope=col>Purchased</th></tr></thead>\n",
       "<tbody>\n",
       "\t<tr><th scope=row>1</th><td>-1.7655475</td><td>-1.4733414</td><td>0         </td></tr>\n",
       "\t<tr><th scope=row>3</th><td>-1.0962966</td><td>-0.7883761</td><td>0         </td></tr>\n",
       "\t<tr><th scope=row>6</th><td>-1.0006894</td><td>-0.3602727</td><td>0         </td></tr>\n",
       "\t<tr><th scope=row>7</th><td>-1.0006894</td><td> 0.3817730</td><td>0         </td></tr>\n",
       "\t<tr><th scope=row>8</th><td>-0.5226531</td><td> 2.2654277</td><td>1         </td></tr>\n",
       "\t<tr><th scope=row>10</th><td>-0.2358313</td><td>-0.1604912</td><td>0         </td></tr>\n",
       "</tbody>\n",
       "</table>\n"
      ],
      "text/latex": [
       "\\begin{tabular}{r|lll}\n",
       "  & Age & EstimatedSalary & Purchased\\\\\n",
       "\\hline\n",
       "\t1 & -1.7655475 & -1.4733414 & 0         \\\\\n",
       "\t3 & -1.0962966 & -0.7883761 & 0         \\\\\n",
       "\t6 & -1.0006894 & -0.3602727 & 0         \\\\\n",
       "\t7 & -1.0006894 &  0.3817730 & 0         \\\\\n",
       "\t8 & -0.5226531 &  2.2654277 & 1         \\\\\n",
       "\t10 & -0.2358313 & -0.1604912 & 0         \\\\\n",
       "\\end{tabular}\n"
      ],
      "text/markdown": [
       "\n",
       "| <!--/--> | Age | EstimatedSalary | Purchased | \n",
       "|---|---|---|---|---|---|\n",
       "| 1 | -1.7655475 | -1.4733414 | 0          | \n",
       "| 3 | -1.0962966 | -0.7883761 | 0          | \n",
       "| 6 | -1.0006894 | -0.3602727 | 0          | \n",
       "| 7 | -1.0006894 |  0.3817730 | 0          | \n",
       "| 8 | -0.5226531 |  2.2654277 | 1          | \n",
       "| 10 | -0.2358313 | -0.1604912 | 0          | \n",
       "\n",
       "\n"
      ],
      "text/plain": [
       "   Age        EstimatedSalary Purchased\n",
       "1  -1.7655475 -1.4733414      0        \n",
       "3  -1.0962966 -0.7883761      0        \n",
       "6  -1.0006894 -0.3602727      0        \n",
       "7  -1.0006894  0.3817730      0        \n",
       "8  -0.5226531  2.2654277      1        \n",
       "10 -0.2358313 -0.1604912      0        "
      ]
     },
     "metadata": {},
     "output_type": "display_data"
    }
   ],
   "source": [
    "head(training_set)"
   ]
  },
  {
   "cell_type": "code",
   "execution_count": 8,
   "metadata": {},
   "outputs": [
    {
     "data": {
      "text/html": [
       "<table>\n",
       "<thead><tr><th></th><th scope=col>Age</th><th scope=col>EstimatedSalary</th><th scope=col>Purchased</th></tr></thead>\n",
       "<tbody>\n",
       "\t<tr><th scope=row>2</th><td>-0.3041906</td><td>-1.5135434</td><td>0         </td></tr>\n",
       "\t<tr><th scope=row>4</th><td>-1.0599437</td><td>-0.3245603</td><td>0         </td></tr>\n",
       "\t<tr><th scope=row>5</th><td>-1.8156969</td><td> 0.2859986</td><td>0         </td></tr>\n",
       "\t<tr><th scope=row>9</th><td>-1.2488820</td><td>-1.0957926</td><td>0         </td></tr>\n",
       "\t<tr><th scope=row>12</th><td>-1.1544129</td><td>-0.4852337</td><td>0         </td></tr>\n",
       "\t<tr><th scope=row>18</th><td> 0.6405008</td><td>-1.3207353</td><td>1         </td></tr>\n",
       "</tbody>\n",
       "</table>\n"
      ],
      "text/latex": [
       "\\begin{tabular}{r|lll}\n",
       "  & Age & EstimatedSalary & Purchased\\\\\n",
       "\\hline\n",
       "\t2 & -0.3041906 & -1.5135434 & 0         \\\\\n",
       "\t4 & -1.0599437 & -0.3245603 & 0         \\\\\n",
       "\t5 & -1.8156969 &  0.2859986 & 0         \\\\\n",
       "\t9 & -1.2488820 & -1.0957926 & 0         \\\\\n",
       "\t12 & -1.1544129 & -0.4852337 & 0         \\\\\n",
       "\t18 &  0.6405008 & -1.3207353 & 1         \\\\\n",
       "\\end{tabular}\n"
      ],
      "text/markdown": [
       "\n",
       "| <!--/--> | Age | EstimatedSalary | Purchased | \n",
       "|---|---|---|---|---|---|\n",
       "| 2 | -0.3041906 | -1.5135434 | 0          | \n",
       "| 4 | -1.0599437 | -0.3245603 | 0          | \n",
       "| 5 | -1.8156969 |  0.2859986 | 0          | \n",
       "| 9 | -1.2488820 | -1.0957926 | 0          | \n",
       "| 12 | -1.1544129 | -0.4852337 | 0          | \n",
       "| 18 |  0.6405008 | -1.3207353 | 1          | \n",
       "\n",
       "\n"
      ],
      "text/plain": [
       "   Age        EstimatedSalary Purchased\n",
       "2  -0.3041906 -1.5135434      0        \n",
       "4  -1.0599437 -0.3245603      0        \n",
       "5  -1.8156969  0.2859986      0        \n",
       "9  -1.2488820 -1.0957926      0        \n",
       "12 -1.1544129 -0.4852337      0        \n",
       "18  0.6405008 -1.3207353      1        "
      ]
     },
     "metadata": {},
     "output_type": "display_data"
    }
   ],
   "source": [
    "head(test_set)"
   ]
  },
  {
   "cell_type": "code",
   "execution_count": 15,
   "metadata": {},
   "outputs": [],
   "source": [
    "# Fitting K-NN to the Training set and Predicting the Test set results\n",
    "library(class)\n",
    "y_pred = knn(train = training_set[, -3],\n",
    "             test = test_set[, -3],\n",
    "             cl = training_set[, 3],\n",
    "             k = 5,\n",
    "             prob = TRUE)\n",
    "\n",
    "# Making the Confusion Matrix\n",
    "cm = table(test_set[, 3], y_pred)\n"
   ]
  },
  {
   "cell_type": "code",
   "execution_count": 10,
   "metadata": {},
   "outputs": [
    {
     "data": {
      "text/plain": [
       "   y_pred\n",
       "     0  1\n",
       "  0 59  5\n",
       "  1  6 30"
      ]
     },
     "metadata": {},
     "output_type": "display_data"
    }
   ],
   "source": [
    "cm"
   ]
  },
  {
   "cell_type": "code",
   "execution_count": 12,
   "metadata": {},
   "outputs": [
    {
     "ename": "ERROR",
     "evalue": "Error in library(ElemStatLearn): there is no package called ‘ElemStatLearn’\n",
     "output_type": "error",
     "traceback": [
      "Error in library(ElemStatLearn): there is no package called ‘ElemStatLearn’\nTraceback:\n",
      "1. library(ElemStatLearn)",
      "2. stop(txt, domain = NA)"
     ]
    }
   ],
   "source": [
    "\n",
    "# Visualising the Training set results\n",
    "library(ElemStatLearn)\n",
    "set = training_set\n",
    "X1 = seq(min(set[, 1]) - 1, max(set[, 1]) + 1, by = 0.01)\n",
    "X2 = seq(min(set[, 2]) - 1, max(set[, 2]) + 1, by = 0.01)\n",
    "grid_set = expand.grid(X1, X2)\n",
    "colnames(grid_set) = c('Age', 'EstimatedSalary')\n",
    "y_grid = knn(train = training_set[, -3], test = grid_set, cl = training_set[, 3], k = 5)\n",
    "plot(set[, -3],\n",
    "     main = 'K-NN (Training set)',\n",
    "     xlab = 'Age', ylab = 'Estimated Salary',\n",
    "     xlim = range(X1), ylim = range(X2))\n",
    "contour(X1, X2, matrix(as.numeric(y_grid), length(X1), length(X2)), add = TRUE)\n",
    "points(grid_set, pch = '.', col = ifelse(y_grid == 1, 'springgreen3', 'tomato'))\n",
    "points(set, pch = 21, bg = ifelse(set[, 3] == 1, 'green4', 'red3'))"
   ]
  },
  {
   "cell_type": "code",
   "execution_count": 13,
   "metadata": {},
   "outputs": [
    {
     "ename": "ERROR",
     "evalue": "Error in library(ElemStatLearn): there is no package called ‘ElemStatLearn’\n",
     "output_type": "error",
     "traceback": [
      "Error in library(ElemStatLearn): there is no package called ‘ElemStatLearn’\nTraceback:\n",
      "1. library(ElemStatLearn)",
      "2. stop(txt, domain = NA)"
     ]
    }
   ],
   "source": [
    "\n",
    "# Visualising the Test set results\n",
    "library(ElemStatLearn)\n",
    "set = test_set\n",
    "X1 = seq(min(set[, 1]) - 1, max(set[, 1]) + 1, by = 0.01)\n",
    "X2 = seq(min(set[, 2]) - 1, max(set[, 2]) + 1, by = 0.01)\n",
    "grid_set = expand.grid(X1, X2)\n",
    "colnames(grid_set) = c('Age', 'EstimatedSalary')\n",
    "y_grid = knn(train = training_set[, -3], test = grid_set, cl = training_set[, 3], k = 5)\n",
    "plot(set[, -3],\n",
    "     main = 'K-NN (Test set)',\n",
    "     xlab = 'Age', ylab = 'Estimated Salary',\n",
    "     xlim = range(X1), ylim = range(X2))\n",
    "contour(X1, X2, matrix(as.numeric(y_grid), length(X1), length(X2)), add = TRUE)\n",
    "points(grid_set, pch = '.', col = ifelse(y_grid == 1, 'springgreen3', 'tomato'))\n",
    "points(set, pch = 21, bg = ifelse(set[, 3] == 1, 'green4', 'red3'))"
   ]
  },
  {
   "cell_type": "code",
   "execution_count": null,
   "metadata": {},
   "outputs": [],
   "source": []
  }
 ],
 "metadata": {
  "kernelspec": {
   "display_name": "R",
   "language": "R",
   "name": "r"
  },
  "language_info": {
   "codemirror_mode": "r",
   "file_extension": ".r",
   "mimetype": "text/x-r-source",
   "name": "R",
   "pygments_lexer": "r",
   "version": "3.4.1"
  }
 },
 "nbformat": 4,
 "nbformat_minor": 2
}
